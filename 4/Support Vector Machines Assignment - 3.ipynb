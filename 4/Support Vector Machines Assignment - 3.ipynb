{
 "cells": [
  {
   "cell_type": "code",
   "execution_count": null,
   "id": "ffc2a3f8-105a-4c66-b726-330da3de28c1",
   "metadata": {},
   "outputs": [],
   "source": [
    "# Q1. In order to predict house price based on several characteristics, such as location, square footage, number of bedrooms, etc., you are developing an SVM regression model. \n",
    "# Which regression metric in this situation would be the best to employ?\n",
    "\n",
    "\n"
   ]
  },
  {
   "cell_type": "markdown",
   "id": "cadcb33a-e3e4-4eb8-90de-d10292441acf",
   "metadata": {},
   "source": [
    "In the context of developing an SVM regression model to predict house prices based on various characteristics, you can consider several regression metrics to evaluate the model's performance. \n",
    "\n",
    "\n",
    "For predicting house prices with an SVM regression model, the best regression metric to employ is typically the Mean Absolute Error (MAE) because it provides a straightforward measure of the average absolute difference between predicted and actual prices, which is easy to interpret in dollars.\n",
    "\n"
   ]
  },
  {
   "cell_type": "code",
   "execution_count": null,
   "id": "988c928e-e909-43ce-a349-545c0b43671a",
   "metadata": {},
   "outputs": [],
   "source": [
    "# Q2. You have built an SVM regression model and are trying to decide between using MSE or R-squared as your evaluation metric. \n",
    "\n",
    "# Which metric would be more appropriate if your goal is to predict the actual price of a house as accurately as possible?\n",
    "\n"
   ]
  },
  {
   "cell_type": "markdown",
   "id": "52f4068e-e3df-4fee-9a77-10f3a5440e8d",
   "metadata": {},
   "source": [
    "If your goal is to predict the actual price of a house as accurately as possible, the more appropriate evaluation metric to use is Mean Squared Error (MSE).\n",
    "\n",
    "MSE measures the average squared difference between the predicted and actual prices. It heavily penalizes larger errors, which means that it provides a strong incentive to minimize prediction errors. In the context of predicting house prices, you want to minimize the error in your predictions to get as close as possible to the actual prices. Therefore, MSE is a suitable metric for this goal."
   ]
  },
  {
   "cell_type": "code",
   "execution_count": null,
   "id": "330ad22d-34c0-4966-9133-bcd6f900801b",
   "metadata": {},
   "outputs": [],
   "source": [
    "# Q3. You have a dataset with a significant number of outliers and are trying to select an appropriate regression metric to use with your SVM model.\n",
    "\n",
    "# Which metric would be the most appropriate in this scenario? \n"
   ]
  },
  {
   "cell_type": "markdown",
   "id": "9f4fc1a3-bf84-4815-931b-b9252d5cf907",
   "metadata": {},
   "source": [
    "When dealing with a dataset that has a significant number of outliers, it's often more appropriate to use the Mean Absolute Error (MAE) as the regression metric with your SVM model.\n",
    "\n",
    "Here's why MAE is a good choice in this scenario:\n",
    "\n",
    "Robustness to Outliers: MAE is less sensitive to outliers compared to Mean Squared Error (MSE) and Root Mean Squared Error (RMSE). Since it calculates the average absolute difference between predicted and actual values, extreme outliers won't disproportionately impact the metric. "
   ]
  },
  {
   "cell_type": "code",
   "execution_count": null,
   "id": "48e4b2c4-a788-47f2-b8fd-ca93316f285e",
   "metadata": {},
   "outputs": [],
   "source": [
    "# Q4. You have built an SVM regression model using a polynomial kernel and are trying to select the best metric to evaluate its performance. \n",
    "\n",
    "# You have calculated both MSE and RMSE and found that both values are very close. \n",
    "\n",
    "# Which metric should you choose to use in this case?\n",
    "\n"
   ]
  },
  {
   "cell_type": "markdown",
   "id": "45909b94-7704-4f25-9969-2306ffaf31bd",
   "metadata": {},
   "source": [
    "\n",
    "When you have calculated both Mean Squared Error (MSE) and Root Mean Squared Error (RMSE) and found that both values are very close, it's generally a good practice to choose the simpler and more interpretable metric, which, in this case, is MSE.\n",
    "\n",
    "MSE is often the simpler and more interpretable choice, even when using a polynomial kernel. It directly measures the average squared difference between your model's predictions and the actual values, making it a straightforward metric to understand and communicate."
   ]
  },
  {
   "cell_type": "code",
   "execution_count": null,
   "id": "7029273e-2fb0-4389-9026-01c01ce35003",
   "metadata": {},
   "outputs": [],
   "source": [
    "# Q5. You are comparing the performance of different SVM regression models using different kernels (linear, polynomial, and RBF) and are trying to select the best evaluation metric. \n",
    "\n",
    "# Which metric would be most appropriate if your goal is to measure how well the model explains the variance in the target variable.\n",
    "\n",
    "\n",
    "\n"
   ]
  },
  {
   "cell_type": "markdown",
   "id": "6c0b42d1-7866-4755-92c5-1e18b4d827d5",
   "metadata": {},
   "source": [
    "If your goal is to measure how well the model explains the variance in the target variable, the most appropriate evaluation metric to use is R-squared (R²). R-squared, also known as the coefficient of determination, quantifies the proportion of the variance in the target variable that is explained by the model.\n",
    "\n",
    "if your goal is to measure how well the SVM regression models with different kernels explain the variance in the target variable, R-squared is the most appropriate evaluation metric. It provides a clear and standardized way to assess and compare the goodness of fit across models with various kernels.\n",
    "\n"
   ]
  }
 ],
 "metadata": {
  "kernelspec": {
   "display_name": "Python 3 (ipykernel)",
   "language": "python",
   "name": "python3"
  },
  "language_info": {
   "codemirror_mode": {
    "name": "ipython",
    "version": 3
   },
   "file_extension": ".py",
   "mimetype": "text/x-python",
   "name": "python",
   "nbconvert_exporter": "python",
   "pygments_lexer": "ipython3",
   "version": "3.10.8"
  }
 },
 "nbformat": 4,
 "nbformat_minor": 5
}
