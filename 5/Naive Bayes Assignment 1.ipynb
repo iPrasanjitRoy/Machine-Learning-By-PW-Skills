{
 "cells": [
  {
   "cell_type": "code",
   "execution_count": null,
   "id": "533fc0cd-6e9c-410b-94a8-77717ab64177",
   "metadata": {},
   "outputs": [],
   "source": [
    "# Q1. What is Bayes' theorem?\n"
   ]
  },
  {
   "cell_type": "markdown",
   "id": "d72aa304-d6f8-4cf8-adac-62680b861d31",
   "metadata": {},
   "source": [
    "Bayes' Theorem states that the conditional probability of an event, based on the occurrence of another event, is equal to the likelihood of the second event given the first event multiplied by the probability of the first event.\n",
    "\n"
   ]
  },
  {
   "cell_type": "code",
   "execution_count": null,
   "id": "2e4982a9-a011-4d31-9273-139745fe1adb",
   "metadata": {},
   "outputs": [],
   "source": [
    "# Q2. What is the formula for Bayes' theorem?  "
   ]
  },
  {
   "cell_type": "code",
   "execution_count": 5,
   "id": "9ed4225b-7ed2-4d33-a811-fe045b5ee538",
   "metadata": {},
   "outputs": [
    {
     "data": {
      "text/html": [
       "<img src=\"https://cdn1.byjus.com/wp-content/uploads/2020/10/Bayes-Theorem.png\"/>"
      ],
      "text/plain": [
       "<IPython.core.display.Image object>"
      ]
     },
     "execution_count": 5,
     "metadata": {},
     "output_type": "execute_result"
    }
   ],
   "source": [
    "from IPython.display import Image\n",
    "image_url = 'https://cdn1.byjus.com/wp-content/uploads/2020/10/Bayes-Theorem.png'\n",
    "Image(url=image_url)\n"
   ]
  },
  {
   "cell_type": "markdown",
   "id": "94a85b8f-0c03-4fc7-bd61-86a006c2a71d",
   "metadata": {},
   "source": [
    "P(A ∣ B) = P(B ∣ A)P(A) / P(B)\n",
    "\n",
    "P(A ∣ B) is the conditional probability of event A occurring, given that B is true.\n",
    "\n",
    "P(B ∣ A) is the conditional probability of event B occurring, given that A is true.\n",
    "\n",
    "P(A) and P(B) are the probabilities of A and B occurring independently of one another."
   ]
  },
  {
   "cell_type": "code",
   "execution_count": null,
   "id": "0e5bb62b-e5a0-4a8c-97e1-5b032fb626b0",
   "metadata": {},
   "outputs": [],
   "source": [
    "# Q3. How is Bayes' theorem used in practice? "
   ]
  },
  {
   "cell_type": "markdown",
   "id": "62d9c46a-934f-4569-acb7-89a45a746d06",
   "metadata": {},
   "source": [
    "Bayes' theorem is used in practice to update and refine probabilities based on new evidence or information. It's applied in various fields such as medical diagnosis, spam email filtering, machine learning, finance, and many others to make informed decisions and predictions in situations involving uncertainty. "
   ]
  },
  {
   "cell_type": "code",
   "execution_count": null,
   "id": "110e1fdc-e9cd-4b8a-b414-7efe85645bf7",
   "metadata": {},
   "outputs": [],
   "source": [
    "# Q4. What is the relationship between Bayes' theorem and conditional probability? "
   ]
  },
  {
   "cell_type": "markdown",
   "id": "b3665259-423a-4ca5-b71d-301db64c41a2",
   "metadata": {},
   "source": [
    "Bayes' theorem and conditional probability are closely related concepts in probability theory. \n",
    "\n",
    "\n",
    "\n",
    "Bayes' theorem helps us calculate conditional probabilities, specifically the probability of an event happening given that another event has occurred. It's a formula that lets us update our beliefs based on new information. \n",
    "\n"
   ]
  },
  {
   "cell_type": "code",
   "execution_count": null,
   "id": "058a4aed-343b-4e55-be6c-103a99a70c04",
   "metadata": {},
   "outputs": [],
   "source": [
    "# Q5. How do you choose which type of Naive Bayes classifier to use for any given problem? "
   ]
  },
  {
   "cell_type": "markdown",
   "id": "85daa82c-31a0-40db-8121-da6d02a858ae",
   "metadata": {},
   "source": [
    "To choose the right type of Naive Bayes classifier for your problem:\n",
    "\n",
    "Consider Data Type: If your data is continuous, use Gaussian Naive Bayes. For discrete data like text, use Multinomial Naive Bayes. For binary data, choose Bernoulli Naive Bayes.\n",
    "\n",
    "\n",
    "Check Data Distribution: Ensure your data matches the distribution assumptions of the chosen classifier (e.g., Gaussian, multinomial, or Bernoulli).\n",
    "\n",
    "\n",
    "Experiment: Try different types and compare their performance. Experimentation often helps identify the best fit.\n",
    "\n",
    "\n",
    "Use Domain Knowledge: Consider domain-specific insights that might guide your choice based on the problem's characteristics.\n",
    "\n"
   ]
  },
  {
   "cell_type": "code",
   "execution_count": null,
   "id": "75f552b3-02e4-4396-9d8f-c3ecba03ea49",
   "metadata": {},
   "outputs": [],
   "source": [
    "# Q6. Assignment:\n",
    "\n",
    "# You have a dataset with two features, X1 and X2, and two possible classes, A and B. \n",
    "\n",
    "# You want to use Naive Bayes to classify a new instance with features X1 = 3 and X2 = 4. \n",
    "\n",
    "# The following table shows the frequency of each feature value for each class:\n",
    "\n",
    "# Class\t X1=1       X1=2 \t X1=3  \tX2=1  \tX2=2  \tX2=3\t  X2=4\n",
    "\n",
    "#   A\t  3\t         3\t       4\t  4\t      3\t     3\t        3 \n",
    "\n",
    "#  B\t  2\t         2\t       1\t  2\t      2\t     2\t        3 \n",
    "\n",
    "# Assuming equal prior probabilities for each class, which class would Naive Bayes predict the new instance to belong to?\n",
    "\n"
   ]
  },
  {
   "cell_type": "markdown",
   "id": "0486a7f1-04bd-4911-a377-a5bb7ca50952",
   "metadata": {},
   "source": [
    "To classify the new instance with features X1 = 3 and X2 = 4 using Naive Bayes, we need to calculate the conditional probabilities for each class (A and B) and then compare them.\n",
    "\n",
    "Let's denote:\n",
    "\n",
    "P(A) as the prior probability of class A.\n",
    "P(B) as the prior probability of class B.\n",
    "\n",
    "\n",
    "\n",
    "P(X1=3|A) as the conditional probability of X1=3 given class A.\n",
    "P(X2=4|A) as the conditional probability of X2=4 given class A.\n",
    "P(X1=3|B) as the conditional probability of X1=3 given class B.\n",
    "P(X2=4|B) as the conditional probability of X2=4 given class B.\n",
    "\n",
    "\n",
    "\n",
    "Since we assume equal prior probabilities (P(A) = P(B)), we don't need to consider them in the comparison.\n",
    "\n",
    "Now, let's calculate these conditional probabilities based on the provided frequency table:\n",
    "\n",
    "For Class A:\n",
    "\n",
    "P(X1=3|A) = 4/10\n",
    "\n",
    "P(X2=4|A) = 3/10\n",
    "\n",
    "\n",
    "\n",
    "For Class B:\n",
    "\n",
    "P(X1=3|B) = 1/9\n",
    "\n",
    "P(X2=4|B) = 3/9\n",
    "\n",
    "Now, we can calculate the likelihoods for both classes based on the feature values:\n",
    "\n",
    "Likelihood_A = P(X1=3|A) * P(X2=4|A) = (4/10) * (3/10) = 12/100\n",
    "\n",
    "Likelihood_B = P(X1=3|B) * P(X2=4|B) = (1/9) * (3/9) = 3/81\n",
    "\n",
    "\n",
    "\n",
    "\n",
    "To make the comparison easier, we can calculate the normalized likelihoods:\n",
    "\n",
    "Normalized_Likelihood_A = Likelihood_A / (Likelihood_A + Likelihood_B)\n",
    "\n",
    "\n",
    "Normalized_Likelihood_B = Likelihood_B / (Likelihood_A + Likelihood_B)\n",
    "\n",
    "\n",
    "\n",
    "Now, let's calculate the normalized likelihoods:\n",
    "\n",
    "Normalized_Likelihood_A = (12/100) / ((12/100) + (3/81))\n",
    "\n",
    "\n",
    "\n",
    "Normalized_Likelihood_B = (3/81) / ((12/100) + (3/81))\n",
    "\n",
    "\n",
    "\n",
    "\n",
    "Now, compare the normalized likelihoods:\n",
    "\n",
    "Normalized_Likelihood_A ≈ 0.905\n",
    "\n",
    "Normalized_Likelihood_B ≈ 0.095\n",
    "\n",
    "\n",
    "Since Normalized_Likelihood_A is significantly higher than Normalized_Likelihood_B, Naive Bayes would predict the new instance to belong to Class A."
   ]
  }
 ],
 "metadata": {
  "kernelspec": {
   "display_name": "Python 3 (ipykernel)",
   "language": "python",
   "name": "python3"
  },
  "language_info": {
   "codemirror_mode": {
    "name": "ipython",
    "version": 3
   },
   "file_extension": ".py",
   "mimetype": "text/x-python",
   "name": "python",
   "nbconvert_exporter": "python",
   "pygments_lexer": "ipython3",
   "version": "3.10.8"
  }
 },
 "nbformat": 4,
 "nbformat_minor": 5
}
