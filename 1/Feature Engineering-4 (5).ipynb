{
 "cells": [
  {
   "cell_type": "code",
   "execution_count": null,
   "id": "a78accee-9595-4314-a6b6-dce143cdd224",
   "metadata": {},
   "outputs": [],
   "source": [
    "# Q1. What is the difference between Ordinal Encoding and Label Encoding? \n",
    "# Provide an example of when you might choose one over the other. "
   ]
  },
  {
   "cell_type": "markdown",
   "id": "47a56cae-f543-4f91-8e5e-748ab16bef76",
   "metadata": {},
   "source": [
    "Ordinal Encoding and Label Encoding are both techniques used to convert categorical data into numerical values, but they are applied under different circumstances and for different types of categorical data.\n",
    "\n",
    "Ordinal Encoding:\n",
    "Ordinal encoding is used when there is a clear and meaningful order or hierarchy among the categories. In this encoding, categories are assigned integer values based on their relative order. For example, if you have a feature like \"Education Level\" with categories \"High School,\" \"Bachelor's,\" \"Master's,\" and \"Ph.D.,\" you can assign ordinal values such as 1, 2, 3, and 4 respectively.\n",
    "\n",
    "\n",
    "\n",
    "Label Encoding:\n",
    "Label encoding is a simpler form of encoding that is used when there is no inherent order among the categories. In this technique, each category is assigned a unique integer value. For instance, if you have a feature like \"Color\" with categories \"Red,\" \"Green,\" and \"Blue,\" you can assign integer values like 0, 1, and 2.\n",
    "\n",
    "\n",
    "Summary:\n",
    "\n",
    "Ordinal encoding is used when there is an order or hierarchy among the categories.\n",
    "Label encoding is used when categories don't have an inherent order and need to be represented as distinct numerical values.\n",
    "\n",
    "\n"
   ]
  },
  {
   "cell_type": "code",
   "execution_count": null,
   "id": "3b56da9d-ce07-42fd-b139-f90849fec8b0",
   "metadata": {},
   "outputs": [],
   "source": [
    "# Q2. Explain how Target Guided Ordinal Encoding works and provide an example of when you might use it in a machine learning project.\n",
    "\n"
   ]
  },
  {
   "cell_type": "markdown",
   "id": "3ab999d3-66e2-46cf-8744-15be579d2bf3",
   "metadata": {},
   "source": [
    "Target Guided Ordinal Encoding is a technique used to encode categorical variables based on the relationship between the categories and the target variable in a supervised machine learning setting. It's particularly useful when dealing with ordinal categorical variables, where the categories have a meaningful order.\n",
    "\n",
    "\n",
    "Here's how Target Guided Ordinal Encoding works:\n",
    "\n",
    "# Calculate the Mean Target Value for Each Category: \n",
    "For each category in the categorical variable, calculate the mean of the target variable for instances belonging to that category. This means computing the average of the target variable values for all instances in each category.\n",
    "\n",
    "# Order the Categories: \n",
    "Order the categories based on their mean target values. Assign a lower encoded value to categories with lower mean target values and a higher encoded value to categories with higher mean target values. This ranking reflects the relationship between the categories and the target variable.\n",
    "\n",
    "# Replace Categories with Encoded Values: \n",
    "Replace the original categorical values with their corresponding encoded values based on the order established in step 2.\n",
    "\n",
    "This encoding technique uses the information from the target variable to create an ordinal relationship among the categories that mirrors their impact on the target.\n",
    "\n",
    "\n",
    "# Example Scenario:\n",
    "Imagine you are working on a credit risk prediction project, and you have a categorical feature called \"Income Group\" with categories \"Low,\" \"Medium,\" and \"High.\" The target variable is whether a customer defaults on a loan or not.\n",
    "\n",
    "\n",
    "You can use Target Guided Ordinal Encoding to encode the \"Income Group\" feature as follows:\n",
    "\n",
    "Calculate the mean default rate for each income group.\n",
    "Order the income groups based on their mean default rates (e.g., High > Medium > Low).\n",
    "Encode the income groups accordingly (High = 2, Medium = 1, Low = 0).\n",
    "\n",
    "\n",
    "In this case, you're using the relationship between the income groups' default rates and the target variable to create an ordinal encoding that captures the impact of income groups on loan default. This encoding can help the model learn from the patterns in the data more effectively, potentially improving prediction accuracy.\n",
    "\n"
   ]
  },
  {
   "cell_type": "code",
   "execution_count": null,
   "id": "56d3ca9d-3628-4879-a894-6fe6a3e6bec2",
   "metadata": {},
   "outputs": [],
   "source": [
    "# Q3. Define covariance and explain why it is important in statistical analysis. How is covariance calculated?\n"
   ]
  },
  {
   "cell_type": "markdown",
   "id": "136ede0c-6fc6-4ec2-863a-e3ef1637662d",
   "metadata": {},
   "source": [
    "\n",
    "Covariance is a statistical measure that quantifies the degree to which two variables change together. It indicates the direction of the linear relationship between two variables and whether they tend to increase or decrease together. In other words, covariance measures how changes in one variable are associated with changes in another variable.\n",
    "\n",
    "\n",
    "\n",
    "Mathematically, the covariance between two variables, X and Y, is calculated as follows:\n",
    "\n",
    "Cov(X, Y) = Σ[(Xᵢ - X̄)(Yᵢ - Ȳ)] / (n - 1)\n",
    "\n",
    "Where:\n",
    "\n",
    "Xᵢ and Yᵢ are individual data points of X and Y.\n",
    "X̄ and Ȳ are the means of X and Y, respectively.\n",
    "n is the number of data points.\n",
    "\n",
    "The sign of the covariance indicates the direction of the relationship between the variables:\n",
    "\n",
    "Positive covariance (Cov(X, Y) > 0) indicates that when one variable increases, the other tends to increase as well.\n",
    "Negative covariance (Cov(X, Y) < 0) indicates that when one variable increases, the other tends to decrease.\n",
    "\n",
    "\n",
    "\n",
    "Importance of Covariance in Statistical Analysis:\n",
    "Covariance plays a crucial role in statistical analysis for several reasons:\n",
    "\n",
    "Linear Relationship: Covariance is a measure of the linear relationship between two variables. It helps identify whether the variables move in the same direction (positive covariance) or opposite directions (negative covariance).\n",
    "\n",
    "\n",
    "Regression Analysis: Covariance is a key component in calculating regression coefficients and assessing the strength and direction of relationships between predictor and response variables.\n",
    "\n"
   ]
  },
  {
   "cell_type": "code",
   "execution_count": null,
   "id": "aabc224f-b211-4cde-b198-641dae2245d2",
   "metadata": {},
   "outputs": [],
   "source": [
    "# Q4. For a dataset with the following categorical variables: \n",
    "# Color (red, green, blue), Size (small, medium, large), and Material (wood, metal, plastic)\n",
    "\n",
    "# Perform label encoding using Python's scikit-learn library. \n",
    "\n",
    "# Show your code and explain the output. \n"
   ]
  },
  {
   "cell_type": "code",
   "execution_count": 1,
   "id": "4f396554-e057-4826-9c99-e70f8607792b",
   "metadata": {},
   "outputs": [
    {
     "name": "stdout",
     "output_type": "stream",
     "text": [
      "   Color    Size Material  Color_encoded  Size_encoded  Material_encoded\n",
      "0    red   small     wood              2             2                 2\n",
      "1  green  medium    metal              1             1                 0\n",
      "2   blue   large  plastic              0             0                 1\n",
      "3  green  medium     wood              1             1                 2\n",
      "4    red   small    metal              2             2                 0\n"
     ]
    }
   ],
   "source": [
    "from sklearn.preprocessing import LabelEncoder\n",
    "import pandas as pd\n",
    "\n",
    "# Sample dataset\n",
    "data = {\n",
    "    'Color': ['red', 'green', 'blue', 'green', 'red'],\n",
    "    'Size': ['small', 'medium', 'large', 'medium', 'small'],\n",
    "    'Material': ['wood', 'metal', 'plastic', 'wood', 'metal']\n",
    "}\n",
    "\n",
    "df = pd.DataFrame(data)\n",
    "\n",
    "# Initialize LabelEncoder\n",
    "label_encoder = LabelEncoder()\n",
    "\n",
    "# Apply label encoding to each column\n",
    "for column in df.columns:\n",
    "    df[column + '_encoded'] = label_encoder.fit_transform(df[column])\n",
    "\n",
    "print(df)\n"
   ]
  },
  {
   "cell_type": "markdown",
   "id": "7b95be45-1119-492c-b809-29bd1eb537ce",
   "metadata": {},
   "source": [
    "In the encoded columns, the categorical values have been replaced with their corresponding numerical labels. Each unique category within a column is assigned a unique integer value. It's important to note that label encoding should be used when there's an inherent ordinal relationship among the categories or when the categories have no ordinal relationship and the algorithm can interpret the encoded values as meaningful numerical representations.\n"
   ]
  },
  {
   "cell_type": "code",
   "execution_count": null,
   "id": "29883c6d-f54b-4a2c-abea-abf97a1bd72b",
   "metadata": {},
   "outputs": [],
   "source": [
    "# Q5. Calculate the covariance matrix for the following variables in a dataset: Age, Income, and Education level. \n",
    "\n",
    "\n",
    "# Interpret the results \n",
    "\n",
    "\n"
   ]
  },
  {
   "cell_type": "markdown",
   "id": "989f25dc-b464-4b3f-ab8e-a0f420225308",
   "metadata": {},
   "source": [
    "To calculate the covariance matrix for the variables Age, Income, and Education Level in a dataset, you would need the data points for each variable. \n",
    "\n",
    "However, I can provide you with a general explanation of how to interpret the covariance matrix and what the results might mean.\n",
    "\n",
    "The covariance matrix is a square matrix where each element represents the covariance between two variables. For three variables (Age, Income, and Education Level), the covariance matrix would look like this:\n",
    "\n",
    "           Age          Income     Education Level\n",
    "Age        Cov(Age, Age)   Cov(Age, Income)   Cov(Age, Education)\n",
    "Income     Cov(Income, Age) Cov(Income, Income) Cov(Income, Education)\n",
    "Education  Cov(Education, Age) Cov(Education, Income) Cov(Education, Education)\n",
    "\n",
    "\n",
    "Interpretation: \n",
    "\n",
    "Diagonal Elements: The diagonal elements (e.g., Cov(Age, Age), Cov(Income, Income), Cov(Education, Education)) represent the variances of each variable. They indicate how much the variable deviates from its mean value. A larger diagonal element suggests higher variability.\n",
    "\n",
    "Off-Diagonal Elements: The off-diagonal elements (e.g., Cov(Age, Income), Cov(Age, Education), Cov(Income, Education)) represent the covariances between pairs of variables. Covariance is a measure of how two variables change together. A positive covariance indicates that when one variable increases, the other tends to increase as well, and vice versa. A negative covariance indicates that when one variable increases, the other tends to decrease.\n",
    "\n"
   ]
  },
  {
   "cell_type": "code",
   "execution_count": 2,
   "id": "0aafc8af-9491-43f2-a7f2-3a7ba017698b",
   "metadata": {},
   "outputs": [
    {
     "name": "stdout",
     "output_type": "stream",
     "text": [
      "Covariance Matrix:\n",
      "[[ 1.85037980e+02 -2.14782885e+04 -1.72787879e+00]\n",
      " [-2.14782885e+04  1.30363652e+09  7.53099596e+02]\n",
      " [-1.72787879e+00  7.53099596e+02  1.27383838e+00]]\n"
     ]
    }
   ],
   "source": [
    "import numpy as np\n",
    "\n",
    "# Generate random data for Age, Income, and Education Level\n",
    "np.random.seed(0)\n",
    "num_samples = 100\n",
    "\n",
    "age = np.random.randint(20, 65, num_samples)\n",
    "income = np.random.randint(20000, 150000, num_samples)\n",
    "education = np.random.randint(1, 5, num_samples)  # Assume 1 to 4 represents different education levels\n",
    "\n",
    "# Create a matrix with Age, Income, and Education Level\n",
    "data_matrix = np.vstack((age, income, education)).T\n",
    "\n",
    "# Calculate the covariance matrix\n",
    "covariance_matrix = np.cov(data_matrix, rowvar=False)\n",
    "\n",
    "print(\"Covariance Matrix:\")\n",
    "print(covariance_matrix)\n"
   ]
  },
  {
   "cell_type": "code",
   "execution_count": null,
   "id": "f92e2e6f-7b00-4e93-a521-02dffd6c06c6",
   "metadata": {},
   "outputs": [],
   "source": [
    "# Q6. You are working on a machine learning project with a dataset containing several categorical variables, including \"Gender\" (Male/Female), \"Education Level\" (High School/Bachelor's/Master's/PhD), and \"Employment Status\" (Unemployed/Part-Time/Full-Time). \n",
    "\n",
    "\n",
    "# Which encoding method would you use for each variable, and why? "
   ]
  },
  {
   "cell_type": "markdown",
   "id": "03b364b0-dabc-4ed2-b2c7-5ddba0d50b8f",
   "metadata": {},
   "source": [
    "# Gender (Binary Categorical):\n",
    " \n",
    "Since \"Gender\" has only two categories (Male/Female), you can use label encoding or a simple mapping to convert it into numerical values. \n",
    "\n",
    "# Assuming 'gender' column contains 'Male' and 'Female'\n",
    "data['gender'] = data['gender'].map({'Male': 0, 'Female': 1})\n",
    "\n",
    "\n",
    "# Education Level (Nominal Categorical with Ordinal Relationship):\n",
    "\"Education Level\" is ordinal in nature, as it has a clear order: High School < Bachelor's < Master's < PhD. In this case, you can use ordinal encoding to preserve the order of categories.\n",
    "\n",
    "\n",
    "# Assuming 'education_level' column contains 'High School', 'Bachelor's', 'Master's', 'PhD'\n",
    "data['education_encoded'] = data['education_level'].map({'High School': 1, \"Bachelor's\": 2, \"Master's\": 3, 'PhD': 4})\n",
    "\n",
    "\n",
    "# Employment Status (Nominal Categorical without Ordinal Relationship):\n",
    "\"Employment Status\" is nominal and lacks inherent order. For nominal categorical variables, one-hot encoding is often suitable. Each category is transformed into a separate binary column.\n",
    "\n",
    "\n",
    "# Using pandas' get_dummies() function for one-hot encoding\n",
    "\n",
    "employment_dummies = pd.get_dummies(data['employment_status'], prefix='employment')\n",
    "data = pd.concat([data, employment_dummies], axis=1)\n",
    "data.drop('employment_status', axis=1, inplace=True)\n",
    "\n"
   ]
  },
  {
   "cell_type": "code",
   "execution_count": null,
   "id": "f03ccf04-158e-45d9-ac13-2493c80a2baa",
   "metadata": {},
   "outputs": [],
   "source": [
    "# Q7. You are analyzing a dataset with two continuous variables, \"Temperature\" and \"Humidity\", and two categorical variables, \"Weather Condition\" (Sunny/Cloudy/Rainy) and \"Wind Direction\" (North/South/East/West).\n",
    "\n",
    "\n",
    "# Calculate the covariance between each pair of variables and interpret the results"
   ]
  },
  {
   "cell_type": "code",
   "execution_count": 4,
   "id": "b9bc676d-3def-48d3-83ae-90b0404e2bcd",
   "metadata": {},
   "outputs": [
    {
     "name": "stdout",
     "output_type": "stream",
     "text": [
      "Covariance Matrix:\n",
      "[[ 18.8904126   -3.99525551]\n",
      " [ -3.99525551 193.35317896]]\n"
     ]
    }
   ],
   "source": [
    "import numpy as np\n",
    "\n",
    "# Generate random data for Temperature and Humidity\n",
    "np.random.seed(0)\n",
    "num_samples = 100\n",
    "\n",
    "temperature = np.random.uniform(20, 35, num_samples)  # Temperature in Celsius\n",
    "humidity = np.random.uniform(30, 80, num_samples)  # Humidity as a percentage\n",
    "\n",
    "# Generate random data for Weather Condition and Wind Direction\n",
    "weather_conditions = np.random.choice(['Sunny', 'Cloudy', 'Rainy'], num_samples)\n",
    "wind_directions = np.random.choice(['North', 'South', 'East', 'West'], num_samples)\n",
    "\n",
    "# Create a matrix with Temperature, Humidity, Weather Condition, and Wind Direction\n",
    "data_matrix = np.vstack((temperature, humidity)).T\n",
    "\n",
    "# Calculate the covariance matrix\n",
    "covariance_matrix = np.cov(data_matrix, rowvar=False)\n",
    "\n",
    "print(\"Covariance Matrix:\")\n",
    "print(covariance_matrix)\n"
   ]
  },
  {
   "cell_type": "code",
   "execution_count": null,
   "id": "22e2e549-462e-4481-9651-2369178a796a",
   "metadata": {},
   "outputs": [],
   "source": []
  }
 ],
 "metadata": {
  "kernelspec": {
   "display_name": "Python 3 (ipykernel)",
   "language": "python",
   "name": "python3"
  },
  "language_info": {
   "codemirror_mode": {
    "name": "ipython",
    "version": 3
   },
   "file_extension": ".py",
   "mimetype": "text/x-python",
   "name": "python",
   "nbconvert_exporter": "python",
   "pygments_lexer": "ipython3",
   "version": "3.10.8"
  }
 },
 "nbformat": 4,
 "nbformat_minor": 5
}
