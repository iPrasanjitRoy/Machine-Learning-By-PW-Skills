{
 "cells": [
  {
   "cell_type": "code",
   "execution_count": null,
   "id": "7428aaee-6e61-40db-a94a-a209b118518f",
   "metadata": {},
   "outputs": [],
   "source": [
    "# Q1. Pearson correlation coefficient is a measure of the linear relationship between two variables. \n",
    "\n",
    "# Suppose you have collected data on the amount of time students spend studying for an exam and their final exam scores. \n",
    "\n",
    "# Calculate the Pearson correlation coefficient between these two variables and interpret the result.\n",
    "\n"
   ]
  },
  {
   "cell_type": "code",
   "execution_count": 1,
   "id": "9add83d0-889c-4448-9a0c-a648ad7cd5e7",
   "metadata": {},
   "outputs": [
    {
     "name": "stdout",
     "output_type": "stream",
     "text": [
      "Pearson Correlation Coefficient: 0.9416113724269137\n"
     ]
    }
   ],
   "source": [
    "import numpy as np\n",
    "\n",
    "# Sample data for study time and exam scores\n",
    "study_time = [10, 15, 20, 5, 8, 12, 18, 6, 9, 14]\n",
    "exam_scores = [85, 90, 92, 70, 78, 88, 94, 75, 80, 89]\n",
    "\n",
    "# Calculate the Pearson correlation coefficient\n",
    "correlation_coefficient = np.corrcoef(study_time, exam_scores)[0, 1]\n",
    "\n",
    "print(\"Pearson Correlation Coefficient:\", correlation_coefficient)\n"
   ]
  },
  {
   "cell_type": "markdown",
   "id": "ee42c9d7-c35c-4dbd-9309-1fa49e8be895",
   "metadata": {},
   "source": [
    "If the calculated Pearson correlation coefficient is close to 1 (positive value), it indicates a strong positive linear relationship between study time and exam scores. This means that students who study more tend to score higher on the exam.\n",
    "\n",
    "\n",
    "If the coefficient is close to -1 (negative value), it indicates a strong negative linear relationship. This would imply that students who study more tend to score lower on the exam, which is unlikely in this context.\n",
    "\n",
    "\n",
    "\n",
    "If the coefficient is close to 0, it suggests no strong linear relationship between study time and exam scores. This means that variations in study time do not correspond to consistent variations in exam scores.\n",
    "\n",
    "\n"
   ]
  },
  {
   "cell_type": "code",
   "execution_count": null,
   "id": "ed2056c9-8241-4e37-9f9b-becb70ff40de",
   "metadata": {},
   "outputs": [],
   "source": [
    "# Q2. Spearman's rank correlation is a measure of the monotonic relationship between two variables. \n",
    "\n",
    "# Suppose you have collected data on the amount of sleep individuals get each night and their overall job satisfaction level on a scale of 1 to 10. \n",
    "\n",
    "# Calculate the Spearman's rank correlation between these two variables and interpret the result.\n",
    "\n"
   ]
  },
  {
   "cell_type": "code",
   "execution_count": 2,
   "id": "343952e6-7407-4134-b9d2-6409131514be",
   "metadata": {},
   "outputs": [
    {
     "name": "stdout",
     "output_type": "stream",
     "text": [
      "Spearman's Rank Correlation Coefficient: 0.9436153964994065\n",
      "p-value: 4.129787098050796e-05\n"
     ]
    }
   ],
   "source": [
    "import numpy as np\n",
    "from scipy.stats import spearmanr\n",
    "\n",
    "# Sample data for sleep and job satisfaction\n",
    "sleep = [7, 6, 8, 5, 4, 6, 7, 8, 7, 5]\n",
    "job_satisfaction = [8, 6, 9, 5, 4, 7, 8, 9, 6, 5]\n",
    "\n",
    "# Calculate the Spearman's rank correlation\n",
    "correlation_coefficient, p_value = spearmanr(sleep, job_satisfaction)\n",
    "\n",
    "print(\"Spearman's Rank Correlation Coefficient:\", correlation_coefficient)\n",
    "print(\"p-value:\", p_value)\n"
   ]
  },
  {
   "cell_type": "markdown",
   "id": "52f193ed-f3b4-4275-aeff-1dde180ef9eb",
   "metadata": {},
   "source": [
    "The Spearman's rank correlation coefficient ranges from -1 to 1, where:\n",
    "\n",
    "1 indicates a perfect monotonic positive relationship.\n",
    "-1 indicates a perfect monotonic negative relationship.\n",
    "0 indicates no monotonic relationship.\n",
    "\n",
    "\n",
    "The p-value indicates the significance of the correlation. A low p-value (typically < 0.05) suggests that the observed correlation is statistically significant.\n",
    "\n"
   ]
  },
  {
   "cell_type": "code",
   "execution_count": null,
   "id": "9f9f8c07-eede-40ff-81e9-076396c2db45",
   "metadata": {},
   "outputs": [],
   "source": [
    "# Q3. Suppose you are conducting a study to examine the relationship between the number of hours of exercise per week and body mass index (BMI) in a sample of adults. \n",
    "\n",
    "# You collected data on both variables for 50 participants. \n",
    "\n",
    "# Calculate the Pearson correlation coefficient and the Spearman's rank correlation between these two variables and compare the results.\n",
    "\n",
    "\n"
   ]
  },
  {
   "cell_type": "code",
   "execution_count": 3,
   "id": "b37491ae-5ba9-44e4-a243-22b34f7f3ccc",
   "metadata": {},
   "outputs": [
    {
     "name": "stdout",
     "output_type": "stream",
     "text": [
      "Pearson Correlation Coefficient: 1.0\n",
      "Pearson p-value: 0.0\n",
      "Spearman's Rank Correlation Coefficient: 1.0\n",
      "Spearman p-value: 0.0\n"
     ]
    }
   ],
   "source": [
    "import numpy as np\n",
    "from scipy.stats import pearsonr, spearmanr\n",
    "\n",
    "# Sample data for exercise hours and BMI\n",
    "exercise_hours = [4, 5, 3, 6, 2, 4, 5, 3, 2, 6, 1, 2, 3, 5, 4, 6, 1, 2, 3, 4, 5, 3, 2, 6, 4, 5, 2, 3, 1, 6, 3, 4, 5, 2, 1, 6, 4, 3, 5, 2, 1, 4, 3, 6, 5, 2, 1, 4, 3, 5]\n",
    "bmi = [24, 25, 23, 26, 22, 24, 25, 23, 22, 26, 21, 22, 23, 25, 24, 26, 21, 22, 23, 24, 25, 23, 22, 26, 24, 25, 22, 23, 21, 26, 23, 24, 25, 22, 21, 26, 24, 23, 25, 22, 21, 24, 23, 26, 25, 22, 21, 24, 23, 25]\n",
    "\n",
    "# Calculate Pearson correlation coefficient\n",
    "pearson_coefficient, pearson_p_value = pearsonr(exercise_hours, bmi)\n",
    "\n",
    "# Calculate Spearman's rank correlation coefficient\n",
    "spearman_coefficient, spearman_p_value = spearmanr(exercise_hours, bmi)\n",
    "\n",
    "print(\"Pearson Correlation Coefficient:\", pearson_coefficient)\n",
    "print(\"Pearson p-value:\", pearson_p_value)\n",
    "print(\"Spearman's Rank Correlation Coefficient:\", spearman_coefficient)\n",
    "print(\"Spearman p-value:\", spearman_p_value)\n"
   ]
  },
  {
   "cell_type": "code",
   "execution_count": null,
   "id": "5ed740b7-404a-4dd2-98ab-81cde7043d9d",
   "metadata": {},
   "outputs": [],
   "source": [
    "# Q4. A researcher is interested in examining the relationship between the number of hours individuals spend watching television per day and their level of physical activity. \n",
    "\n",
    "# The researcher collected data on both variables from a sample of 50 participants. \n",
    "\n",
    "# Calculate the Pearson correlation coefficient between these two variables.\n",
    "\n"
   ]
  },
  {
   "cell_type": "code",
   "execution_count": 4,
   "id": "4545a946-5d3f-4c26-9520-4deb8252dd46",
   "metadata": {},
   "outputs": [
    {
     "name": "stdout",
     "output_type": "stream",
     "text": [
      "Pearson Correlation Coefficient: 0.9908066573771616\n"
     ]
    }
   ],
   "source": [
    "import numpy as np\n",
    "\n",
    "# Sample data for TV hours and physical activity level\n",
    "tv_hours = [3, 4, 5, 2, 6, 3, 4, 5, 1, 2, 6, 3, 4, 5, 2, 6, 3, 4, 5, 2, 6, 3, 4, 5, 2, 6, 3, 4, 5, 2, 6, 3, 4, 5, 2, 6, 3, 4, 5, 2, 6, 3, 4, 5, 2, 6, 3, 4]\n",
    "physical_activity = [2, 3, 4, 1, 5, 2, 3, 4, 1, 2, 5, 2, 3, 4, 1, 5, 2, 3, 4, 1, 5, 2, 3, 4, 1, 5, 2, 3, 4, 1, 5, 2, 3, 4, 1, 5, 2, 3, 4, 1, 5, 2, 3, 4, 1, 5, 2, 3]\n",
    "\n",
    "# Calculate the Pearson correlation coefficient\n",
    "correlation_coefficient = np.corrcoef(tv_hours, physical_activity)[0, 1]\n",
    "\n",
    "print(\"Pearson Correlation Coefficient:\", correlation_coefficient)\n"
   ]
  },
  {
   "cell_type": "code",
   "execution_count": null,
   "id": "4cb9e553-8d59-4d59-96f9-998710bd8183",
   "metadata": {},
   "outputs": [],
   "source": [
    "# Q5. A survey was conducted to examine the relationship between age and preference for a particular brand of soft drink. \n",
    "\n",
    "# The survey results are shown below:\n",
    "\n",
    "# Age(Years)       Soft drink Preference\n",
    "# 25                   Coke\n",
    "# 42                   Pepsi\n",
    "# 37                Mountain dew \n",
    "# 19                   Coke \n",
    "# 31                   Pepsi\n",
    "# 28                   Coke \n",
    "\n",
    "\n",
    "\n"
   ]
  },
  {
   "cell_type": "code",
   "execution_count": null,
   "id": "204c248e-0b7c-416c-886b-09e54be9ee8a",
   "metadata": {},
   "outputs": [],
   "source": [
    "# Q6. A company is interested in examining the relationship between the number of sales calls made per day and the number of sales made per week. \n",
    "\n",
    "# The company collected data on both variables from a sample of 30 sales representatives. \n",
    "\n",
    "# Calculate the Pearson correlation coefficient between these two variables. "
   ]
  },
  {
   "cell_type": "code",
   "execution_count": 8,
   "id": "9281af37-9d13-4b0b-89b6-89482c27e228",
   "metadata": {},
   "outputs": [
    {
     "name": "stdout",
     "output_type": "stream",
     "text": [
      "Pearson Correlation Coefficient: 0.9911908887402545\n"
     ]
    }
   ],
   "source": [
    "import numpy as np\n",
    "\n",
    "# Sample data for sales calls per day and sales per week\n",
    "sales_calls_per_day = [20, 15, 18, 25, 12, 24, 16, 22, 19, 14, 21, 17, 23, 27, 13, 28, 10, 26, 11, 29, 30, 9, 31, 8, 32, 7, 33, 6, 34, 5]\n",
    "sales_per_week = [8, 6, 7, 10, 4, 9, 6, 8, 7, 5, 8, 6, 9, 11, 4, 12, 3, 10, 4, 11, 12, 3, 13, 2, 14, 1, 15, 0, 16, 1]\n",
    "\n",
    "# Calculate the Pearson correlation coefficient\n",
    "correlation_coefficient = np.corrcoef(sales_calls_per_day, sales_per_week)[0, 1]\n",
    "\n",
    "print(\"Pearson Correlation Coefficient:\", correlation_coefficient)\n"
   ]
  },
  {
   "cell_type": "code",
   "execution_count": null,
   "id": "b561e50e-b15e-47b0-bc6e-204f533b40a0",
   "metadata": {},
   "outputs": [],
   "source": []
  }
 ],
 "metadata": {
  "kernelspec": {
   "display_name": "Python 3 (ipykernel)",
   "language": "python",
   "name": "python3"
  },
  "language_info": {
   "codemirror_mode": {
    "name": "ipython",
    "version": 3
   },
   "file_extension": ".py",
   "mimetype": "text/x-python",
   "name": "python",
   "nbconvert_exporter": "python",
   "pygments_lexer": "ipython3",
   "version": "3.10.8"
  }
 },
 "nbformat": 4,
 "nbformat_minor": 5
}
