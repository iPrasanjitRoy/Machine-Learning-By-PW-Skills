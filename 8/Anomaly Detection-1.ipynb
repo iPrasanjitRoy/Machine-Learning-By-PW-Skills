{
 "cells": [
  {
   "cell_type": "code",
   "execution_count": null,
   "id": "b5e4ba08-4811-47e1-a8f4-01d1dcf0bbf9",
   "metadata": {},
   "outputs": [],
   "source": [
    "# Q1. What is anomaly detection and what is its purpose? "
   ]
  },
  {
   "cell_type": "markdown",
   "id": "a35b5efd-4729-40e3-88d7-de066555a6b8",
   "metadata": {},
   "source": [
    "## Anomaly detection is a technique to find unusual or unexpected things in data. Its purpose is to identify outliers or irregular patterns, which can be useful in fields like cybersecurity, fraud detection, quality control, and more.\n",
    "\n",
    "## Anomaly detection, also known as outlier detection. Anomaly detection involves identifying data points or patterns that do not conform to the expected behavior of the system or dataset. These anomalies can take various forms, such as outliers, spikes, dips, or unexpected trends."
   ]
  },
  {
   "cell_type": "code",
   "execution_count": null,
   "id": "14210bd8-d213-4f5a-be2f-3ae884f0ef42",
   "metadata": {},
   "outputs": [],
   "source": [
    "# Q2. What are the key challenges in anomaly detection? "
   ]
  },
  {
   "cell_type": "markdown",
   "id": "1344e1ff-7eee-41af-a32a-1f2ed7a2c65b",
   "metadata": {},
   "source": [
    "The key challenges in anomaly detection include:\n",
    "\n",
    "Data Imbalance: Anomalies are often rare compared to normal data, leading to imbalanced datasets that can affect model training and evaluation.\n",
    "\n",
    "Labeling Anomalies: Obtaining labeled data for training and evaluation can be difficult, as anomalies may be rare and may not always be clearly defined.\n",
    "\n",
    "\n",
    "Feature Selection: Choosing relevant features or attributes for anomaly detection is crucial, and selecting the wrong ones can hinder detection accuracy.\n",
    "\n"
   ]
  },
  {
   "cell_type": "code",
   "execution_count": null,
   "id": "1eb372bf-c679-43c2-a0cd-202941e131f8",
   "metadata": {},
   "outputs": [],
   "source": [
    "# Q3. How does unsupervised anomaly detection differ from supervised anomaly detection? \n"
   ]
  },
  {
   "cell_type": "markdown",
   "id": "5e42c789-5050-44ce-8bb5-88ef23ff5f61",
   "metadata": {},
   "source": [
    "Unsupervised anomaly detection and supervised anomaly detection are two distinct approaches used to identify anomalies in data. Here's how they differ:\n",
    "\n",
    "Unsupervised Anomaly Detection: It identifies anomalies without labeled data, suitable for exploring unknown or rare anomalies.\n",
    "\n",
    "Supervised Anomaly Detection: It uses labeled data to train models to classify anomalies, suitable for well-defined anomaly detection tasks with prior knowledge.\n",
    "\n",
    "# Key Differences:\n",
    "\n",
    "Data Labeling: The primary difference is the presence or absence of labeled data. Unsupervised methods work without labeled anomalies, while supervised methods require them.\n",
    "\n",
    "\n",
    "\n",
    "Use of Prior Knowledge: Unsupervised methods are exploratory and do not rely on prior knowledge of anomalies. Supervised methods, on the other hand, leverage prior knowledge through labeled data.\n",
    "\n",
    "Algorithmic Approach: Unsupervised methods focus on identifying deviations from the norm within the data itself, often using statistical or distance-based techniques. Supervised methods build models based on labeled data and apply classification techniques.\n",
    "\n",
    "\n",
    "Applicability: Unsupervised methods are more suitable when anomalies are rare or not well-defined. Supervised methods are applicable when you have a clear understanding of what constitutes an anomaly and can provide labeled examples."
   ]
  },
  {
   "cell_type": "code",
   "execution_count": null,
   "id": "74da6d7e-545d-485b-b423-8efeb757fefd",
   "metadata": {},
   "outputs": [],
   "source": [
    "# Q4. What are the main categories of anomaly detection algorithms? \n"
   ]
  },
  {
   "cell_type": "markdown",
   "id": "58303ba4-b70d-4e13-a701-9c1456f818dd",
   "metadata": {},
   "source": [
    "The main categories of anomaly detection algorithms include:\n",
    "\n",
    "# Statistical Methods:\n",
    "\n",
    "Z-Score: Detects anomalies by measuring how many standard deviations a data point is from the mean.\n",
    "\n",
    "Percentile-Based: Identifies anomalies by comparing data points to percentiles or quantiles of the data distribution.\n",
    "\n",
    "Histogram-Based: Uses histograms to model data distribution and flag data points in low-density regions.\n",
    "\n",
    "# Machine Learning-Based:\n",
    "\n",
    "Clustering Algorithms: Detect anomalies by considering data points that are distant from cluster centers as outliers (e.g., K-Means, DBSCAN).\n",
    "\n",
    "Classification Algorithms: Treats anomaly detection as a binary classification problem, training models to classify data points as normal or anomalous (e.g., Decision Trees, Support Vector Machines).\n",
    "\n",
    "\n",
    "# Distance-Based Methods:\n",
    "\n",
    "Mahalanobis Distance: Measures the distance of data points from the centroid, accounting for correlations between features.\n",
    "\n",
    "K-Nearest Neighbors (KNN): Identifies anomalies based on the distance to their nearest neighbors.\n",
    "\n",
    "# Local Outlier Factor (LOF): Evaluates the local density of data points to identify outliers.\n",
    "\n",
    "# Density-Based Methods:\n",
    "\n",
    "Kernel Density Estimation (KDE): Models the data distribution as a continuous probability density function and flags data points in low-density regions.\n",
    "\n",
    "# Proximity-Based Methods:\n",
    "\n",
    "# DBSCAN (Density-Based Spatial Clustering of Applications with Noise): Groups data points into clusters and considers data points in low-density clusters as anomalies.\n",
    "\n",
    "\n"
   ]
  },
  {
   "cell_type": "code",
   "execution_count": null,
   "id": "ee727452-dd14-41c7-bc84-4d4a30e3223e",
   "metadata": {},
   "outputs": [],
   "source": [
    "# Q5. What are the main assumptions made by distance-based anomaly detection methods? \n"
   ]
  },
  {
   "cell_type": "markdown",
   "id": "14f1b97f-a301-4f96-819f-d256c312a298",
   "metadata": {},
   "source": [
    "# Distance-based anomaly detection methods assume that:\n",
    "\n",
    "# Data can be represented in Euclidean space.\n",
    "\n",
    "# Normal data points are in high-density regions.\n",
    "\n",
    "# Anomalies are far from their nearest neighbors.\n",
    "\n",
    "# Data points are generated from a common distribution.\n",
    "\n",
    "# Anomalies can be detected using a threshold.\n",
    "\n",
    "# Scalability challenges in high-dimensional data may exist.\n",
    "\n",
    "# Data distribution is relatively uniform with rare anomalies.\n"
   ]
  },
  {
   "cell_type": "code",
   "execution_count": null,
   "id": "8bc96c00-8b3a-4fbf-905a-62287d292c15",
   "metadata": {},
   "outputs": [],
   "source": [
    "# Q6. How does the LOF algorithm compute anomaly scores? \n"
   ]
  },
  {
   "cell_type": "markdown",
   "id": "6483ed72-8a4c-43a9-b90b-d87f989b7286",
   "metadata": {},
   "source": [
    "The LOF (Local Outlier Factor) algorithm computes anomaly scores for data points by comparing their local density to the local densities of their neighboring data points. \n",
    "\n",
    "\n",
    "# The LOF (Local Outlier Factor) algorithm computes anomaly scores as follows:\n",
    "\n",
    "It calculates the local density of a data point by comparing its distance to its 'k' nearest neighbors.\n",
    "\n",
    "It computes the LRD (Local Reachability Density) for the data point, which measures its local density relative to its neighbors.\n",
    "\n",
    "The LOF score is determined by comparing the LRD of the data point to the LRD of its neighbors.\n",
    "\n",
    "\n",
    "A high LOF score (>1) indicates that the data point is in a less dense region compared to its neighbors, suggesting it may be an anomaly."
   ]
  },
  {
   "cell_type": "code",
   "execution_count": null,
   "id": "10282af8-840d-4ced-aca5-2e6ce2db111e",
   "metadata": {},
   "outputs": [],
   "source": [
    "# Q7. What are the key parameters of the Isolation Forest algorithm? \n"
   ]
  },
  {
   "cell_type": "markdown",
   "id": "7ec50e09-1cb4-43c4-a550-c4f708064fff",
   "metadata": {},
   "source": [
    "The key parameters of the Isolation Forest algorithm are:\n",
    "\n",
    "## n_estimators: Number of isolation trees in the forest.\n",
    "\n",
    "## max_samples: Maximum number of data points used for each tree.\n",
    "\n",
    "## max_features: Maximum number of features considered for splitting.\n",
    "\n",
    "## contamination: Expected proportion of anomalies in the data.\n",
    "\n",
    "## random_state: Seed for random number generation.\n",
    "\n",
    "## bootstrap: Whether to use bootstrap sampling.\n",
    "\n",
    "## verbose: Controls algorithm verbosity.\n",
    "\n",
    "## n_jobs: Number of CPU cores for parallelism.\n",
    "\n",
    "## behaviour: Behavior for datasets with no anomalies.\n",
    "\n",
    "## outlier_label: Label for detected anomalies.\n",
    "\n",
    "## warm_start: Allows adding more trees to an existing model.\n",
    "\n",
    "## sample_mode: Controls sample drawing method.\n",
    "\n",
    "## extension_level: Determines path length calculation method.\n"
   ]
  },
  {
   "cell_type": "markdown",
   "id": "0db00b27-45d0-4e3e-9c84-02f30fd8c91d",
   "metadata": {},
   "source": [
    "# The Isolation Forest algorithm is an unsupervised machine learning technique used for anomaly detection. It's particularly effective at identifying anomalies (outliers) in large datasets. \n",
    "\n"
   ]
  },
  {
   "cell_type": "code",
   "execution_count": 3,
   "id": "6d9c124f-7f0b-449c-bae4-7cbc8e0a3c05",
   "metadata": {},
   "outputs": [
    {
     "data": {
      "image/png": "[encoded data removed]",
      "text/plain": [
       "<PIL.PngImagePlugin.PngImageFile image mode=RGBA size=986x508>"
      ]
     },
     "metadata": {},
     "output_type": "display_data"
    }
   ],
   "source": [
    "from PIL import Image\n",
    "import requests\n",
    "from io import BytesIO\n",
    "from IPython.display import display  # For Jupyter Notebook\n",
    "\n",
    "# URL Of The Image\n",
    "image_url = \"https://miro.medium.com/v2/resize:fit:1400/1*d-4xINDQHv0G82o2GUApJQ.png\"\n",
    "\n",
    "# Download The Image From The URL\n",
    "response = requests.get(image_url)\n",
    "image_bytes = BytesIO(response.content)\n",
    "\n",
    "# Open The Image Using Pillow\n",
    "image = Image.open(image_bytes)\n",
    "\n",
    "# Display The Image\n",
    "display(image)\n"
   ]
  },
  {
   "cell_type": "markdown",
   "id": "6e6341b3-13b6-46c5-8593-90df1147d3ed",
   "metadata": {},
   "source": [
    "Isolation Forests(IF), similar to Random Forests, are build based on decision trees. And since there are no pre-defined labels here, it is an unsupervised model.\n",
    "\n",
    "In an Isolation Forest, randomly sub-sampled data is processed in a tree structure based on randomly selected features. \n",
    "\n",
    "The samples that travel deeper into the tree are less likely to be anomalies as they required more cuts to isolate them. \n",
    "\n",
    "Similarly, the samples which end up in shorter branches indicate anomalies as it was easier for the tree to separate them from other observations.\n"
   ]
  },
  {
   "cell_type": "code",
   "execution_count": null,
   "id": "f4e2a9a0-d60c-4f44-ab9e-099a565d1716",
   "metadata": {},
   "outputs": [],
   "source": [
    "# Q8. If a data point has only 2 neighbours of the same class within a radius of 0.5, what is its anomaly score using KNN with K=10?  \n",
    "\n",
    "\n"
   ]
  },
  {
   "cell_type": "markdown",
   "id": "426efb86-166f-4698-8a1b-a9750bcdb9fd",
   "metadata": {},
   "source": [
    "K (number of nearest neighbors) = 10\n",
    "\n",
    "Number of neighbors with the same class = 2\n",
    "\n",
    "Majority class = The class of the 2 neighbors \n",
    "\n",
    "Anomaly score = K - Number of neighbors with the majority class = 10 - 2 = 8 \n",
    "\n",
    "So, the anomaly score for the data point is 8\n",
    "\n",
    "Anomaly Score = K (10) - Number of neighbors with the same class (2) = 10 - 2 = 8\n",
    "\n"
   ]
  },
  {
   "cell_type": "markdown",
   "id": "db91f694-ce7a-4ab0-b518-2c905a2a86b5",
   "metadata": {},
   "source": [
    "\n"
   ]
  },
  {
   "cell_type": "code",
   "execution_count": null,
   "id": "1f6d7204-4c6a-481b-adb4-833913e55d5c",
   "metadata": {},
   "outputs": [],
   "source": [
    "# Q9. Using the Isolation Forest algorithm with 100 trees and a dataset of 3000 data points, \n",
    "\n",
    "# what is the anomaly score for a data point that has an average path length of 5.0 compared to the average path length of the trees.\n",
    "\n"
   ]
  },
  {
   "cell_type": "markdown",
   "id": "6a4753d4-6aad-4427-8c29-5a8c3553b98e",
   "metadata": {},
   "source": [
    "## In the Isolation Forest algorithm:\n",
    "\n",
    "## Anomaly Score = 2^(-average_path_length / c(n))\n",
    "Where:\n",
    "\n",
    "average_path_length is the average path length of a data point across all the trees in the forest.\n",
    "c(n) depends on the number of data points in the dataset.\n",
    "\n",
    "\n",
    "\n",
    "## The specific formula for calculating \"c(n)\" in the Isolation Forest algorithm is:\n",
    "\n",
    "## c(n) = 2 * (log(n - 1) + γ) - (2 * (n - 1) / n)\n",
    "\n",
    "\n",
    "\n",
    "\n",
    "In this formula:\n",
    "\n",
    "\"n\" represents the number of data points in the dataset.\n",
    "\"log\" is the natural logarithm.\n",
    "\"γ\" represents the Euler-Mascheroni constant, which is approximately 0.5772156649.\n",
    "\n",
    "\n",
    "\n",
    "\n",
    "First, calculate c(3000):\n",
    "\n",
    "## c(3000) = 2 * (log(3000 - 1) + 0.5772156649) - (2 * (3000 - 1) / 3000)\n",
    "c(3000) ≈ 11.83692\n",
    "\n",
    "\n",
    "\n",
    "\n",
    "Now, calculate the anomaly score:\n",
    "\n",
    "## Anomaly Score ≈ 2^(-5.0 / 11.83692)\n",
    "\n",
    "Anomaly Score ≈ 0.2371\n",
    "\n"
   ]
  }
 ],
 "metadata": {
  "kernelspec": {
   "display_name": "Python 3 (ipykernel)",
   "language": "python",
   "name": "python3"
  },
  "language_info": {
   "codemirror_mode": {
    "name": "ipython",
    "version": 3
   },
   "file_extension": ".py",
   "mimetype": "text/x-python",
   "name": "python",
   "nbconvert_exporter": "python",
   "pygments_lexer": "ipython3",
   "version": "3.10.8"
  }
 },
 "nbformat": 4,
 "nbformat_minor": 5
}
