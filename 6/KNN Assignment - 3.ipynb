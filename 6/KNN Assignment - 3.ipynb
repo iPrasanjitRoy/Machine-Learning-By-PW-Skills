{
 "cells": [
  {
   "cell_type": "code",
   "execution_count": null,
   "id": "f44bca78-e1b0-45d1-8573-075d72018a73",
   "metadata": {},
   "outputs": [],
   "source": [
    "# Q1. Write a Python code to implement the KNN classifier algorithm on load_iris dataset in sklearn datasets.\n",
    "\n"
   ]
  },
  {
   "cell_type": "code",
   "execution_count": 8,
   "id": "ec2afd6c-135b-4338-acd8-a6afb2eaa902",
   "metadata": {},
   "outputs": [
    {
     "name": "stdout",
     "output_type": "stream",
     "text": [
      "Accuracy of KNN classifier with K=3: 1.00\n"
     ]
    }
   ],
   "source": [
    "# Step 1: Import Necessary Libraries \n",
    "from sklearn.datasets import load_iris \n",
    "from sklearn.model_selection import train_test_split \n",
    "from sklearn.neighbors import KNeighborsClassifier \n",
    "from sklearn.metrics import accuracy_score \n",
    "\n",
    "# Step 2: Load The Dataset \n",
    "iris = load_iris() \n",
    "X = iris.data \n",
    "y = iris.target \n",
    "\n",
    "# Step 3: Split The Dataset Into Training And Testing Sets \n",
    "X_train, X_test, y_train, y_test = train_test_split(X, y, test_size=0.2, random_state=42) \n",
    "\n",
    "# Step 4: Create And Train The KNN Classifier (Let's Use K=3 As An Example)\n",
    "k = 3\n",
    "knn_classifier = KNeighborsClassifier(n_neighbors=k)\n",
    "knn_classifier.fit(X_train, y_train)\n",
    "\n",
    "# Step 5: Make Predictions \n",
    "y_pred = knn_classifier.predict(X_test)\n",
    "\n",
    "# Step 6: Evaluate The Model's Performance (E.g., Using Accuracy) \n",
    "accuracy = accuracy_score(y_test, y_pred)\n",
    "print(f\"Accuracy of KNN classifier with K={k}: {accuracy:.2f}\")\n",
    "\n",
    "\n"
   ]
  },
  {
   "cell_type": "code",
   "execution_count": null,
   "id": "869f06f1-2353-4a2a-8e3a-2f0532c2ed9b",
   "metadata": {},
   "outputs": [],
   "source": [
    "# Q2. Write a Python code to implement the KNN regressor algorithm on load boston dataset in sklearn datasets. \n",
    "\n"
   ]
  },
  {
   "cell_type": "code",
   "execution_count": 4,
   "id": "769d8760-3c3c-4440-83a7-923b02daf910",
   "metadata": {},
   "outputs": [
    {
     "name": "stdout",
     "output_type": "stream",
     "text": [
      "Mean Squared Error (MSE): 0.43\n",
      "R-squared (R2) Score: 0.67\n"
     ]
    }
   ],
   "source": [
    "# load_boston has been removed from scikit-learn since version 1.2. \n",
    "# load_boston has been removed from scikit-learn since version 1.2. \n",
    "# load_boston has been removed from scikit-learn since version 1.2. \n",
    "# load_boston has been removed from scikit-learn since version 1.2. \n",
    "\n",
    "# One such alternative is the California housing dataset\n",
    "# One such alternative is the California housing dataset \n",
    "\n",
    "import numpy as np\n",
    "from sklearn.datasets import fetch_california_housing \n",
    "from sklearn.model_selection import train_test_split \n",
    "from sklearn.preprocessing import StandardScaler \n",
    "from sklearn.neighbors import KNeighborsRegressor \n",
    "from sklearn.metrics import mean_squared_error, r2_score \n",
    "\n",
    "# Load The Boston Housing Dataset \n",
    "california = fetch_california_housing()\n",
    "X, y = california.data, california.target \n",
    "\n",
    "# Split The Data Into Training And Testing Sets \n",
    "X_train, X_test, y_train, y_test = train_test_split(X, y, test_size=0.2, random_state=42)\n",
    "\n",
    "# Standardize The Feature Data \n",
    "scaler = StandardScaler()\n",
    "X_train = scaler.fit_transform(X_train) \n",
    "X_test = scaler.transform(X_test) \n",
    "\n",
    "# Create A KNN Regressor With A Specified Number Of Neighbors (K) \n",
    "k = 5\n",
    "knn_regressor = KNeighborsRegressor(n_neighbors=k)\n",
    "\n",
    "# Fit The Knn Regressor On The Training Data \n",
    "knn_regressor.fit(X_train, y_train)\n",
    "\n",
    "# Predict The Target Values On The Test Data \n",
    "y_pred = knn_regressor.predict(X_test)\n",
    "\n",
    "# Evaluate The Model \n",
    "mse = mean_squared_error(y_test, y_pred)\n",
    "r2 = r2_score(y_test, y_pred)\n",
    "\n",
    "print(f\"Mean Squared Error (MSE): {mse:.2f}\")\n",
    "print(f\"R-squared (R2) Score: {r2:.2f}\")\n",
    "\n"
   ]
  },
  {
   "cell_type": "code",
   "execution_count": 5,
   "id": "2ebda4bb-c49a-4775-b224-91226c5a9968",
   "metadata": {},
   "outputs": [],
   "source": [
    "# Q3. Write a Python code snippet to find the optimal value of K for the KNN classifier algorithm using cross-validation on load iris dataset in sklearn datasets.\n",
    "\n",
    "\n"
   ]
  },
  {
   "cell_type": "code",
   "execution_count": 10,
   "id": "accc26b8-8ebf-4f39-bf0d-6d3b91a9cb5a",
   "metadata": {},
   "outputs": [
    {
     "name": "stdout",
     "output_type": "stream",
     "text": [
      "The best K value is 6 with an accuracy of 0.98\n"
     ]
    }
   ],
   "source": [
    "import numpy as np \n",
    "from sklearn.datasets import load_iris \n",
    "from sklearn.model_selection import cross_val_score, GridSearchCV \n",
    "from sklearn.neighbors import KNeighborsClassifier \n",
    "\n",
    "\n",
    "iris = load_iris()\n",
    "X, y = iris.data, iris.target\n",
    "\n",
    "# Create A KNN Classifier  \n",
    "knn_classifier = KNeighborsClassifier()\n",
    "\n",
    "# Define A Range Of Values For K (Number Of Neighbors)  \n",
    "k_values = list(range(1, 31))  # You can adjust this range as needed \n",
    "\n",
    "# Create A Parameter Grid For GridSearchCV  \n",
    "param_grid = {'n_neighbors': k_values} \n",
    "\n",
    "\n",
    "\n",
    "# Perform A Grid Search With 5-fold Cross-validation To Find The Optimal K \n",
    "grid_search = GridSearchCV(knn_classifier, param_grid, cv=5, scoring='accuracy')\n",
    "grid_search.fit(X, y) \n",
    "\n",
    "\n",
    "# Get The Best K Value From The Grid Search \n",
    "best_k = grid_search.best_params_['n_neighbors'] \n",
    "best_accuracy = grid_search.best_score_ \n",
    "\n",
    "print(f\"The best K value is {best_k} with an accuracy of {best_accuracy:.2f}\")\n"
   ]
  },
  {
   "cell_type": "code",
   "execution_count": null,
   "id": "b353cf2b-b618-4333-a969-e959f8d92a8f",
   "metadata": {},
   "outputs": [],
   "source": [
    "# Q4. Implement the KNN regressor algorithm with feature scaling on load boston dataset in sklearn datasets.\n",
    "\n",
    "\n"
   ]
  },
  {
   "cell_type": "code",
   "execution_count": 11,
   "id": "f78e791b-b14f-46ab-9caf-d3d0d3799b5a",
   "metadata": {},
   "outputs": [
    {
     "name": "stdout",
     "output_type": "stream",
     "text": [
      "Mean Squared Error (MSE): 0.43\n",
      "R-squared (R2) Score: 0.67\n"
     ]
    }
   ],
   "source": [
    "# load_boston has been removed from scikit-learn since version 1.2. \n",
    "# load_boston has been removed from scikit-learn since version 1.2. \n",
    "# load_boston has been removed from scikit-learn since version 1.2. \n",
    "# load_boston has been removed from scikit-learn since version 1.2. \n",
    "\n",
    "# One such alternative is the California housing dataset\n",
    "# One such alternative is the California housing dataset \n",
    "\n",
    "\n",
    "import numpy as np\n",
    "from sklearn.datasets import fetch_california_housing\n",
    "from sklearn.model_selection import train_test_split\n",
    "from sklearn.preprocessing import StandardScaler\n",
    "from sklearn.neighbors import KNeighborsRegressor\n",
    "from sklearn.metrics import mean_squared_error, r2_score\n",
    "\n",
    "# Load The California Housing Dataset \n",
    "california = fetch_california_housing()\n",
    "X, y = california.data, california.target\n",
    "\n",
    "# Split The Data Into Training And Testing Sets \n",
    "X_train, X_test, y_train, y_test = train_test_split(X, y, test_size=0.2, random_state=42)\n",
    "\n",
    "# Standardize The Feature Data \n",
    "scaler = StandardScaler()\n",
    "X_train = scaler.fit_transform(X_train)\n",
    "X_test = scaler.transform(X_test)\n",
    "\n",
    "# Create A KNN Regressor With A Specified Number Of Neighbors (K) \n",
    "k = 5\n",
    "knn_regressor = KNeighborsRegressor(n_neighbors=k)\n",
    "\n",
    "# Fit The Knn Regressor On The Training Data \n",
    "knn_regressor.fit(X_train, y_train)\n",
    "\n",
    "# Predict The Target Values On The Test Data \n",
    "y_pred = knn_regressor.predict(X_test)\n",
    "\n",
    "# Evaluate The Model \n",
    "mse = mean_squared_error(y_test, y_pred)\n",
    "r2 = r2_score(y_test, y_pred)\n",
    "\n",
    "print(f\"Mean Squared Error (MSE): {mse:.2f}\")\n",
    "print(f\"R-squared (R2) Score: {r2:.2f}\")\n",
    "\n"
   ]
  },
  {
   "cell_type": "code",
   "execution_count": 12,
   "id": "0b4e621d-09fd-4f71-9bca-f17a29a3e186",
   "metadata": {},
   "outputs": [],
   "source": [
    "# Q5. Write a Python code snippet to implement the KNN classifier algorithm with weighted voting on load_iris dataset in sklearn.datasets.\n",
    "\n",
    "\n"
   ]
  },
  {
   "cell_type": "code",
   "execution_count": 13,
   "id": "715a8468-709b-4e6d-b2e0-fa3dc22be239",
   "metadata": {},
   "outputs": [
    {
     "name": "stdout",
     "output_type": "stream",
     "text": [
      "Accuracy: 1.00\n"
     ]
    }
   ],
   "source": [
    "import numpy as np\n",
    "from sklearn.datasets import load_iris\n",
    "from sklearn.model_selection import train_test_split\n",
    "from sklearn.preprocessing import StandardScaler\n",
    "from sklearn.neighbors import KNeighborsClassifier\n",
    "\n",
    "# Load The Iris Dataset \n",
    "iris = load_iris()\n",
    "X, y = iris.data, iris.target\n",
    "\n",
    "# Split The Data Into Training And Testing Sets \n",
    "X_train, X_test, y_train, y_test = train_test_split(X, y, test_size=0.2, random_state=42)\n",
    "\n",
    "# Standardize The Feature Data \n",
    "scaler = StandardScaler()\n",
    "X_train = scaler.fit_transform(X_train)\n",
    "X_test = scaler.transform(X_test) \n",
    "\n",
    "# Create A KNN Classifier With Weighted Voting\n",
    "k = 5  \n",
    "knn_classifier = KNeighborsClassifier(n_neighbors=k, weights='distance')\n",
    "\n",
    "\n",
    "# We Create A Knn Classifier With Weighted Voting By Specifying Weights='distance'. \n",
    "# ========> This Means That Closer Neighbors Have More Influence On The Prediction. \n",
    "\n",
    "\n",
    "# Fit The Knn Classifier On The Training Data \n",
    "knn_classifier.fit(X_train, y_train)\n",
    "\n",
    "# Predict The Class Labels On The Test Data \n",
    "y_pred = knn_classifier.predict(X_test)\n",
    "\n",
    "# Evaluate The Model \n",
    "accuracy = np.mean(y_pred == y_test)\n",
    "\n",
    "print(f\"Accuracy: {accuracy:.2f}\")\n"
   ]
  },
  {
   "cell_type": "code",
   "execution_count": null,
   "id": "b73dbb0d-9511-4e83-b483-99a8bb677918",
   "metadata": {},
   "outputs": [],
   "source": [
    "# Q6. Implement a function to standardise the features before applying KNN classifier. "
   ]
  },
  {
   "cell_type": "code",
   "execution_count": 25,
   "id": "dc44eed0-5b09-4589-af6d-3a31ea3cec30",
   "metadata": {},
   "outputs": [],
   "source": [
    "import numpy as np \n",
    "import pandas as pd\n",
    "\n",
    "def standardize_features(X):\n",
    "    \n",
    "    # Check If The Input Is A Pandas Dataframe And Convert It To A Numpy Array \n",
    "    if isinstance(X, pd.DataFrame):\n",
    "        X = X.values \n",
    "\n",
    "    # Calculate The Mean And Standard Deviation For Each Feature \n",
    "    mean = np.mean(X, axis=0) \n",
    "    std_dev = np.std(X, axis=0) \n",
    "\n",
    "    # Avoid Division By Zero By Setting Std_Dev To 1 For Features With Zero Standard Deviation \n",
    "    std_dev[std_dev == 0] = 1\n",
    "\n",
    "    # Standardize The Features\n",
    "    X_standardized = (X - mean) / std_dev\n",
    "\n",
    "    return X_standardized\n"
   ]
  },
  {
   "cell_type": "code",
   "execution_count": 26,
   "id": "f93cecbf-450c-4eb1-8759-ef8f4fcdeed4",
   "metadata": {},
   "outputs": [
    {
     "name": "stdout",
     "output_type": "stream",
     "text": [
      "Accuracy: 0.9666666666666667\n"
     ]
    }
   ],
   "source": [
    "from sklearn.neighbors import KNeighborsClassifier \n",
    "from sklearn.datasets import load_iris \n",
    "from sklearn.model_selection import train_test_split \n",
    "\n",
    "# Load The Iris Dataset As An Example \n",
    "iris = load_iris()\n",
    "X = iris.data\n",
    "y = iris.target\n",
    "\n",
    "# Split The Data Into Training And Testing Sets \n",
    "X_train, X_test, y_train, y_test = train_test_split(X, y, test_size=0.2, random_state=42)\n",
    "\n",
    "# Standardize The Features \n",
    "X_train_std = standardize_features(X_train)\n",
    "X_test_std = standardize_features(X_test)\n",
    "\n",
    "# Initialize And Fit The KNN Classifier \n",
    "knn = KNeighborsClassifier(n_neighbors=3)\n",
    "knn.fit(X_train_std, y_train)\n",
    "\n",
    "# Make Predictions On The Standardized Test Data \n",
    "y_pred = knn.predict(X_test_std)\n",
    "\n",
    "# Evaluate The Models Performance \n",
    "accuracy = np.mean(y_pred == y_test)\n",
    "print(\"Accuracy:\", accuracy)\n"
   ]
  },
  {
   "cell_type": "code",
   "execution_count": null,
   "id": "b144f1d4-4c20-45e5-a540-6a3cfde2c9b5",
   "metadata": {},
   "outputs": [],
   "source": [
    "# Q7. Write a Python function to calculate the euclidean distance between two points. "
   ]
  },
  {
   "cell_type": "code",
   "execution_count": 21,
   "id": "3d4743ed-d3d5-4142-aeec-17f1ac5b3da6",
   "metadata": {},
   "outputs": [
    {
     "name": "stdout",
     "output_type": "stream",
     "text": [
      "Euclidean distance: 6.4031242374328485\n"
     ]
    }
   ],
   "source": [
    "import math\n",
    "\n",
    "def euclidean_distance(x1, y1, x2, y2):\n",
    "    return math.sqrt((x1 - x2)**2 + (y1 - y2)**2)\n",
    "\n",
    "# Example usage:\n",
    "point1 = (5, 5)\n",
    "point2 = (1, 10)\n",
    "distance = euclidean_distance(point1[0], point1[1], point2[0], point2[1])\n",
    "print(\"Euclidean distance:\", distance)\n"
   ]
  },
  {
   "cell_type": "code",
   "execution_count": null,
   "id": "b3107445-f809-4ee9-9653-e7f0098eb88a",
   "metadata": {},
   "outputs": [],
   "source": [
    "# Q8. Write a Python function to calculate the manhattan distance between two points. "
   ]
  },
  {
   "cell_type": "code",
   "execution_count": 22,
   "id": "9834ad3d-557e-497e-850c-d51c7c7660fb",
   "metadata": {},
   "outputs": [
    {
     "name": "stdout",
     "output_type": "stream",
     "text": [
      "Manhattan distance: 9\n"
     ]
    }
   ],
   "source": [
    "def manhattan_distance(x1, y1, x2, y2):\n",
    "    return abs(x1 - x2) + abs(y1 - y2)\n",
    "\n",
    "# Example usage:\n",
    "point1 = (5, 5)\n",
    "point2 = (1, 10)\n",
    "distance = manhattan_distance(point1[0], point1[1], point2[0], point2[1])\n",
    "print(\"Manhattan distance:\", distance)\n"
   ]
  }
 ],
 "metadata": {
  "kernelspec": {
   "display_name": "Python 3 (ipykernel)",
   "language": "python",
   "name": "python3"
  },
  "language_info": {
   "codemirror_mode": {
    "name": "ipython",
    "version": 3
   },
   "file_extension": ".py",
   "mimetype": "text/x-python",
   "name": "python",
   "nbconvert_exporter": "python",
   "pygments_lexer": "ipython3",
   "version": "3.10.8"
  }
 },
 "nbformat": 4,
 "nbformat_minor": 5
}
